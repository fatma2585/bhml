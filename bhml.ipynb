{
 "cells": [
  {
   "cell_type": "code",
   "execution_count": null,
   "metadata": {},
   "outputs": [],
   "source": [
    "import numpy as np \n",
    "import matplotlib.pyplot as plt\n",
    "from astropy.io import fits\n",
    "from astropy.table import Table\n",
    "from astropy.units import cds    \n",
    "# adding the units to the values           \n",
    "cds.enable()\n",
    "from astropy import units as u\n",
    "from astropy.cosmology import WMAP9 as cosmo  \n",
    "from scipy.interpolate import make_interp_spline\n",
    "\n",
    "DR16=fits.open(\"DR16_Z.fits\")         #open function reads the file \n",
    "FA= Table(DR16[1].data)  \n",
    "RA=np.array(FA['RA_1'])\n",
    "DEC=np.array(FA['DEC_1'])\n",
    "Z=np.array(FA['Z']) \n",
    "M=np.array(FA['LOGMBH'])\n",
    "Me=np.array(FA[\"LOGMBH_ERR\"])\n",
    "LB=np.array(FA['LOGLBOL'])\n",
    "Le=np.array(FA[\"LOGLBOL_ERR\"])"
   ]
  },
  {
   "cell_type": "code",
   "execution_count": 194,
   "metadata": {},
   "outputs": [],
   "source": [
    "def entry(RA,DEC,Z,M,LB,Me,Le):\n",
    "    data = np.column_stack((RA,DEC,Z,M,LB,Me,Le))\n",
    "    return(data)"
   ]
  },
  {
   "cell_type": "code",
   "execution_count": 196,
   "metadata": {},
   "outputs": [],
   "source": [
    "Z_ranges = [(0.0, 1.0), (1.0, 2.0), (2, 3), (3, 4), (4, 5), (5, 6), (6, 7), (7, 8)]\n",
    "M_ranges = [(3, 7.5), (7.5, 8.5), (8.5, 9.5), (9.5, 11.5)]\n",
    "\n",
    "def classify (data,Z_ranges,M_ranges):\n",
    "    subsets = []\n",
    "    for z in Z_ranges:\n",
    "        z_subset = data[(data[:,2] > z[0]) & (data[:,2] < z[1])]\n",
    "        #print(z_subset)\n",
    "        m_subsets = []\n",
    "        for m in M_ranges:\n",
    "            m_subset = z_subset[(z_subset[:,3] > m[0]) & (z_subset[:,3] < m[1])]\n",
    "            m_subsets.append(m_subset)\n",
    "        subsets.append(m_subsets)\n",
    "    return(subsets)"
   ]
  },
  {
   "cell_type": "code",
   "execution_count": 250,
   "metadata": {},
   "outputs": [
    {
     "data": {
      "text/plain": [
       "array([0.1411323 , 0.06610274, 0.05825241, ..., 0.09178786, 0.42011649,\n",
       "       0.24060642])"
      ]
     },
     "execution_count": 250,
     "metadata": {},
     "output_type": "execute_result"
    }
   ],
   "source": [
    "data=entry(RA,DEC,Z,M,LB,Me,Le)\n",
    "subsets= classify(data,Z_ranges,M_ranges)\n",
    "subsets[2][1][:,5]"
   ]
  },
  {
   "cell_type": "code",
   "execution_count": 240,
   "metadata": {},
   "outputs": [
    {
     "data": {
      "text/plain": [
       "8"
      ]
     },
     "execution_count": 240,
     "metadata": {},
     "output_type": "execute_result"
    }
   ],
   "source": [
    "def submean(subsets,Z_ranges,M_ranges,parameter=4):\n",
    "    mean=[]\n",
    "    for i in range(len(Z_ranges)):\n",
    "        MM=[]\n",
    "        for j in range(len(M_ranges)):\n",
    "            MM.append(np.mean(subsets[i][j][:,parameter]))\n",
    "        mean.append(MM)\n",
    "    return(mean)\n",
    "MZ=Mmean(subsets,Z_ranges,M_ranges,parameter=3)\n",
    "BZ=Mmean(subsets,Z_ranges,M_ranges,parameter=4)\n",
    "MZe=Mmean(subsets,Z_ranges,M_ranges,parameter=5)\n",
    "BZe=Mmean(subsets,Z_ranges,M_ranges,parameter=6)"
   ]
  },
  {
   "cell_type": "code",
   "execution_count": 252,
   "metadata": {
    "tags": []
   },
   "outputs": [],
   "source": [
    "from scipy.interpolate import make_interp_spline\n",
    "def visual(Z_ranges,MZ,BZ,MZe=None, BZe,Zlimit=2.0, grading=300, kernal=3):\n",
    "    for i in range(len(Z_ranges)):\n",
    "        if Z_ranges[i][0]< Zlimit:\n",
    "            pass\n",
    "        else:\n",
    "            x = np.array(MZ[i])\n",
    "            y = np.array(BZ[i])\n",
    "            x_new = np.linspace(x.min(), x.max(), 300)\n",
    "            spl = make_interp_spline(x, y, k=3)  # Cubic spline\n",
    "            y_smooth = spl(x_new)\n",
    "            plt.plot(x_new, y_smooth, label=f\"zbin {Z_ranges[i]}\")\n",
    "            if MZe in not None:\n",
    "                plt.scatter(MZ[i], BZ[i],xerr=MZe[i], yerr=BZe[i],label=f\"zbin {Z_ranges[i]}\")\n",
    "            plt.errorbar(MZ[i], BZ[i],yerr=BZe[i], fmt='o', elinewidth=2, capsize=2, capthick=2, barsabove=True)\n",
    "            plt.legend()\n",
    "    plt.xlabel('$log(M_{SMBH} / M_{\\odot})$')\n",
    "    plt.ylabel('$log(L_{Bol.})$')\n",
    "    plt.rcParams['figure.figsize']=(12,12)\n",
    "    plt.rcParams.update({'font.size': 12})\n",
    "    plt.savefig(fname='MLFunction.jpg', transparent=True, bbox_inches=\"tight\")\n",
    "    return(plt.show())"
   ]
  },
  {
   "cell_type": "code",
   "execution_count": null,
   "metadata": {
    "tags": []
   },
   "outputs": [],
   "source": [
    "evolution=visual(Z_ranges,MZ,BZ,MZe,BZe,Zlimit=2.0, grading=300, kernal=3)"
   ]
  }
 ],
 "metadata": {
  "kernelspec": {
   "display_name": "Python 3 (ipykernel)",
   "language": "python",
   "name": "python3"
  },
  "language_info": {
   "codemirror_mode": {
    "name": "ipython",
    "version": 3
   },
   "file_extension": ".py",
   "mimetype": "text/x-python",
   "name": "python",
   "nbconvert_exporter": "python",
   "pygments_lexer": "ipython3",
   "version": "3.11.9"
  }
 },
 "nbformat": 4,
 "nbformat_minor": 4
}
